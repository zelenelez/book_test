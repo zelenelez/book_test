{
 "cells": [
  {
   "cell_type": "markdown",
   "id": "checked-pocket",
   "metadata": {},
   "source": [
    "# Ширење на заразна болест\n",
    "***"
   ]
  },
  {
   "cell_type": "markdown",
   "id": "adopted-briefing",
   "metadata": {},
   "source": [
    "Во природата има голем број на работи можат да влијаат врз нашиот имун систем. Некои од нив се вируси што предизвикуваат смрттоносни болести како Ебола или HIV, некои се протеини што не се виткаат добро што предизвикуваат болести како Алцхајмер додека трети се честички кои имаат позитивно влијание на нашиот живот - E. Coli е добар пример[[4]](https://www.condalab.com/int/en/blog/what-do-you-know-about-e-coli-n15). Секој еден од нас во одреден момент од својот живот се соочил со некаква болест. Поеќето од нас можеби проаѓаат со помалку сериозни болести како грип, кашлица, сипаници кои човекот преку голем број на експерименти и истражувања дошол до степен да ги лекува - вакцини, лекови и сл. \n",
    "\n",
    "**Карактеристика** што прави дистинкција помеѓу заразни болести како што се грипот од други болести како што е ракот е присутноста на заразни индивидуи што директно предизвикуваат дополнителни инфекции. Ова веднаш прави еден вид на повратна јамка: инфицирани можат да заразат повеќе луѓе, што може да доведе до експоненцијален раст што го намалува бројот на подлежни луѓе и го ограничува идното ширење. Иако изгледаат како да се комплетно случајни овие ширења, сите вакви заразни болести (вируси) споделуваат некои **карактеристки**: овие карактеристки всушност се толку слични што математичките својста се апликативни во други процеси што не се заразни болести, не се ни жива материја а сепак имаат некое својство на ширење (компјутерски вируси и информации[[5]](https://ieeexplore.ieee.org/document/130801); лажни вести[[6]](https://www.scientificamerican.com/article/how-fake-news-goes-viral-mdash-heres-the-math/)). "
   ]
  },
  {
   "cell_type": "markdown",
   "id": "statutory-wrong",
   "metadata": {},
   "source": [
    "--фази на болест--"
   ]
  },
  {
   "cell_type": "markdown",
   "id": "existing-evolution",
   "metadata": {},
   "source": [
    "--најава за SIR--"
   ]
  }
 ],
 "metadata": {
  "kernelspec": {
   "display_name": "Python 3",
   "language": "python",
   "name": "python3"
  },
  "language_info": {
   "codemirror_mode": {
    "name": "ipython",
    "version": 3
   },
   "file_extension": ".py",
   "mimetype": "text/x-python",
   "name": "python",
   "nbconvert_exporter": "python",
   "pygments_lexer": "ipython3",
   "version": "3.7.10"
  },
  "latex_envs": {
   "LaTeX_envs_menu_present": true,
   "autoclose": false,
   "autocomplete": true,
   "bibliofile": "biblio.bib",
   "cite_by": "apalike",
   "current_citInitial": 1,
   "eqLabelWithNumbers": true,
   "eqNumInitial": 1,
   "hotkeys": {
    "equation": "Ctrl-E",
    "itemize": "Ctrl-I"
   },
   "labels_anchors": false,
   "latex_user_defs": false,
   "report_style_numbering": false,
   "user_envs_cfg": false
  },
  "varInspector": {
   "cols": {
    "lenName": 16,
    "lenType": 16,
    "lenVar": 40
   },
   "kernels_config": {
    "python": {
     "delete_cmd_postfix": "",
     "delete_cmd_prefix": "del ",
     "library": "var_list.py",
     "varRefreshCmd": "print(var_dic_list())"
    },
    "r": {
     "delete_cmd_postfix": ") ",
     "delete_cmd_prefix": "rm(",
     "library": "var_list.r",
     "varRefreshCmd": "cat(var_dic_list()) "
    }
   },
   "types_to_exclude": [
    "module",
    "function",
    "builtin_function_or_method",
    "instance",
    "_Feature"
   ],
   "window_display": false
  }
 },
 "nbformat": 4,
 "nbformat_minor": 5
}